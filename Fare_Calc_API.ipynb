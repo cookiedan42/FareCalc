{
  "nbformat": 4,
  "nbformat_minor": 0,
  "metadata": {
    "kernelspec": {
      "display_name": "Python 3",
      "language": "python",
      "name": "python3"
    },
    "language_info": {
      "codemirror_mode": {
        "name": "ipython",
        "version": 3
      },
      "file_extension": ".py",
      "mimetype": "text/x-python",
      "name": "python",
      "nbconvert_exporter": "python",
      "pygments_lexer": "ipython3",
      "version": "3.7.3"
    },
    "colab": {
      "name": "Fare_Calc_API.ipynb",
      "provenance": [],
      "collapsed_sections": []
    }
  },
  "cells": [
    {
      "cell_type": "code",
      "metadata": {
        "id": "G1hzaFK7GAc1",
        "colab_type": "code",
        "colab": {}
      },
      "source": [
        "import requests\n",
        "import sys\n",
        "import xml.etree.ElementTree as ET\n",
        "import json"
      ],
      "execution_count": 0,
      "outputs": []
    },
    {
      "cell_type": "code",
      "metadata": {
        "id": "a1HWyBjNGtL2",
        "colab_type": "code",
        "colab": {}
      },
      "source": [
        "#source = \"https://www.lta.gov.sg/content/ltagov/en/map/fare-calculator.html\"\n",
        "\n",
        "mrtTripIndex = \"https://www.lta.gov.sg/map/fareCalculator/mrtTripIndex.xml\"\n",
        "busTripIndex = \"https://www.lta.gov.sg/map/fareCalculator/busTripIndex.xml\"\n",
        "\n",
        "trainAPI = \"https://www.lta.gov.sg/content/ltagov/en/map/fare-calculator/jcr:content/map2-content/farecalculator.mrtget.html\"\n",
        "busAPI = \"https://www.lta.gov.sg/content/ltagov/en/map/fare-calculator/jcr:content/map2-content/farecalculator.busget.html\""
      ],
      "execution_count": 0,
      "outputs": []
    },
    {
      "cell_type": "code",
      "metadata": {
        "id": "i7wtciMHH6Tq",
        "colab_type": "code",
        "colab": {}
      },
      "source": [
        "#mrt stuff\n",
        "\n",
        "r = requests.get(mrtTripIndex)\n",
        "root = ET.fromstring(r.content)\n",
        "MRT_Keys = dict() #takes in either station names or station codes as index to spit out corresponding station id as value\n",
        "\n",
        "for child in root:\n",
        "    stationCodes = child.text.split('(')[1].strip(')').split('/')\n",
        "    stationCodes = [i.strip() for i in stationCodes]\n",
        "\n",
        "    MRT_Keys[child.text.split('(')[0].strip().upper()] = {\n",
        "            'Station_Name':child.text.split('(')[0].strip(),\n",
        "            'Station_Key':child.attrib['value'].split('_')[0],\n",
        "            'Station_Codes':stationCodes,\n",
        "        }\n",
        "\n",
        "\n",
        "    for i in stationCodes:\n",
        "        MRT_Keys[i.upper()] = {\n",
        "            'Station_Name':child.text.split('(')[0].strip(),\n",
        "            'Station_Key':child.attrib['value'].split('_')[0],\n",
        "            'Station_Codes':stationCodes,\n",
        "        }\n",
        "\n",
        "MRT_fareTypes = {'adult':30,\n",
        "                 'student':40,\n",
        "                 'senior':39,\n",
        "                 'workfare':38,\n",
        "                 'disabilities':37}\n",
        "\n",
        "def make_MRT_tripDetails(start,end,faretype): #translates start and end into stationKeys\n",
        "    startKey = MRT_Keys.get(start.upper())\n",
        "    endKey = MRT_Keys.get(end.upper())\n",
        "    faretype = MRT_fareTypes.get(faretype.lower())\n",
        "    if (startKey and endKey and faretype):#valid inputs\n",
        "        return {'fare':faretype,'from':startKey['Station_Key'],'to':endKey['Station_Key']}\n",
        "    else:\n",
        "        return 'invalid inputs'"
      ],
      "execution_count": 0,
      "outputs": []
    },
    {
      "cell_type": "code",
      "metadata": {
        "id": "tF1WzKsmqglW",
        "colab_type": "code",
        "colab": {}
      },
      "source": [
        "#bus stuff\n",
        "r = requests.get(busTripIndex)\n",
        "root = ET.fromstring(r.content)\n",
        "bus_Keys = dict() #takes in bus no, stopCode and start/end of trip to generate stopKey\n",
        "for busNo in root:\n",
        "    stops = dict()\n",
        "    for direction in busNo:\n",
        "        for stop in direction:\n",
        "            if stop.tag == 'busStop':\n",
        "                stops[stop.text.split('-')[0].strip()] = {\n",
        "                    'stop_Code':stop.text.split('-')[0].strip(),\n",
        "                    'stop_Name':stop.text.split('-')[1].strip(),\n",
        "                    'start_key':stop.attrib['id'].split('_')[0],\n",
        "                    'end_key':stop.attrib['id'].split('_')[0],\n",
        "                    }\n",
        "    if len(list(busNo)) == 2:\n",
        "        if len(list(busNo)[0])>0 and len(list(busNo)[1])>0:\n",
        "        \n",
        "            stops[direction[1].text.split('-')[0].strip()]['start_key'] = busNo[1][1].attrib['id'].split('_')[0]\n",
        "            stops[direction[1].text.split('-')[0].strip()]['end_key'] = busNo[0][-1].attrib['id'].split('_')[0]\n",
        "            stops[direction[-1].text.split('-')[0].strip()]['start_key'] = busNo[0][1].attrib['id'].split('_')[0]\n",
        "            stops[direction[-1].text.split('-')[0].strip()]['end_key'] = busNo[1][-1].attrib['id'].split('_')[0]\n",
        "\n",
        "    bus_Keys[busNo.attrib['id']] = stops\n",
        "\n",
        "bus_fareTypes = {'adult':30,\n",
        "                 'student':40,\n",
        "                 'senior':39,\n",
        "                 'workfare':38,\n",
        "                 'disabilities':37}\n",
        "\n",
        "def make_bus_tripDetails(busNo,start,end,faretype): #takes busNo, start and end stopCodes and translates into function params\n",
        "    busObj = bus_Keys.get(str(busNo).upper())\n",
        "    if busObj == None:\n",
        "        return \"invalid busNo\"\n",
        "    startKey = busObj.get(str(start))\n",
        "    endKey = busObj.get(str(end))\n",
        "    faretype = MRT_fareTypes.get(faretype.lower())\n",
        "    if (startKey and endKey and faretype):#valid inputs\n",
        "        return {'bus':str(busNo).upper(),'fare':faretype,'from':startKey['start_key'],'to':endKey['end_key']}\n",
        "    else:\n",
        "        return 'invalid inputs'"
      ],
      "execution_count": 0,
      "outputs": []
    },
    {
      "cell_type": "code",
      "metadata": {
        "id": "cjz8AoXRQQ9R",
        "colab_type": "code",
        "colab": {}
      },
      "source": [
        "#Core function that calls the API for trip deets\n",
        "def get_Next_Trip(mode,tripDetails,previousTrip=None):\n",
        "    params = dict()\n",
        "    if previousTrip:\n",
        "        if previousTrip['tripNo']>=6:\n",
        "            return 'limit of 6 trips exceeded!'\n",
        "        tripNo = previousTrip['tripNo']+1\n",
        "        params['addTripInfo'] = previousTrip['addTripInfo']\n",
        "        params['tripInfo'] = previousTrip['tripInfo']\n",
        "    else:\n",
        "        tripNo = 1\n",
        "        params['tripInfo'] = \"usiAccumulatedDistance1=0-usiAccumulatedDistance2=0-usiAccumulatedDistance3=0-usiAccumulatedDistance4=0-usiAccumulatedDistance5=0-usiAccumulatedDistance6=0-usiAccumulatedFare1=0-usiAccumulatedFare2=0-usiAccumulatedFare3=0-usiAccumulatedFare4=0-usiAccumulatedFare5=0-usiAccumulatedFare6=0\"\n",
        "        params['addTripInfo'] = 0\n",
        "    params.update(tripDetails)\n",
        "    if mode.upper() == 'BUS':\n",
        "        API = busAPI\n",
        "    elif mode.upper() in ['MRT','TRAIN']:\n",
        "        API = trainAPI\n",
        "    else:\n",
        "        return 'Invalid mode'\n",
        "    r = requests.post(API,params=params)\n",
        "    output = json.loads(r.content)\n",
        "    output.update((('tripNo',tripNo),))\n",
        "    return output\n",
        "\n",
        "def calc_Fare_From_Dict(trip):\n",
        "    # tripInfo contains history of previous fares as usiAccumulatedFare=123\n",
        "    return sum([int(i.split('=')[1]) for i in trip['tripInfo'].split('-') if \"Fare\" in i])"
      ],
      "execution_count": 0,
      "outputs": []
    },
    {
      "cell_type": "code",
      "metadata": {
        "id": "9PP7xJYmXJeF",
        "colab_type": "code",
        "cellView": "both",
        "colab": {}
      },
      "source": [
        "def input_inputs():\n",
        "    trips = []\n",
        "    while len(trips)<6:\n",
        "        mode = input('mode: ')\n",
        "        if mode.upper() == 'BUS':\n",
        "            busNo = input('Bus Number: ')\n",
        "            start = input('Starting stop: ')\n",
        "            end = input('Ending stop: ')\n",
        "            trips.append({'busNo':busNo,'start':start,'end':end})\n",
        "        elif mode.upper() in ['MRT','TRAIN']:\n",
        "            start = input('Starting stop: ')\n",
        "            end = input('Ending stop: ')\n",
        "            trips.append({'start':start,'end':end})\n",
        "        elif mode.upper() == \" \":\n",
        "            break\n",
        "        else:\n",
        "            print('mode can be ( bus / train / MRT )')\n",
        "    return trips\n",
        "\n",
        "def formField_inputs():\n",
        "    tripInputs = []\n",
        "\n",
        "    #@markdown TRIP 1 Inputs\n",
        "    tempDict=dict()\n",
        "    trip1_mode = \"Bus\" #@param [\"Bus\", \"MRT\",\"NIL\"]\n",
        "    if trip1_mode != \"NIL\":\n",
        "        tempDict['mode'] = trip1_mode\n",
        "        if trip1_mode == 'Bus':\n",
        "            trip1_busNo = \"225g\" #@param {type:\"string\"}\n",
        "            tempDict['busNo'] = trip1_busNo\n",
        "        trip1_start = \"84411\" #@param {type:\"string\"}\n",
        "        trip1_end = \"84009\" #@param {type:\"string\"}\n",
        "        tempDict['start'] = trip1_start\n",
        "        tempDict['end'] = trip1_end\n",
        "        tripInputs.append(tempDict)\n",
        "\n",
        "    #@markdown TRIP 2 Inputs\n",
        "    tempDict=dict()\n",
        "    trip2_mode = \"MRT\" #@param [\"Bus\", \"MRT\",\"NIL\"]\n",
        "    if trip2_mode != \"NIL\":\n",
        "        tempDict['mode'] = trip2_mode\n",
        "        if trip2_mode == 'Bus':\n",
        "            trip2_busNo = \" 1\" #@param {type:\"string\"}\n",
        "            tempDict['busNo'] = trip2_busNo\n",
        "        trip2_start = \"bedok\" #@param {type:\"string\"}\n",
        "        trip2_end = \"buona vista\" #@param {type:\"string\"}\n",
        "        tempDict['start'] = trip2_start\n",
        "        tempDict['end'] = trip2_end\n",
        "        tripInputs.append(tempDict)\n",
        "\n",
        "    #@markdown TRIP 3 Inputs\n",
        "    tempDict=dict()\n",
        "    trip3_mode = \"Bus\" #@param [\"Bus\", \"MRT\",\"NIL\"]\n",
        "    if trip3_mode != \"NIL\":\n",
        "        tempDict['mode'] = trip3_mode\n",
        "        if trip3_mode == 'Bus':\n",
        "            trip3_busNo = \"196\" #@param {type:\"string\"}\n",
        "            tempDict['busNo'] = trip3_busNo\n",
        "        trip3_start = \"11369\" #@param {type:\"string\"}\n",
        "        trip3_end = \"19059\" #@param {type:\"string\"}\n",
        "        tempDict['start'] = trip3_start\n",
        "        tempDict['end'] = trip3_end\n",
        "        tripInputs.append(tempDict)\n",
        "\n",
        "    #@markdown TRIP 4 Inputs\n",
        "    tempDict=dict()\n",
        "    trip4_mode = \"NIL\" #@param [\"Bus\", \"MRT\",\"NIL\"]\n",
        "    if trip4_mode != \"NIL\":\n",
        "        tempDict['mode'] = trip4_mode\n",
        "        if trip4_mode == 'Bus':\n",
        "            trip4_busNo = \"196\" #@param {type:\"string\"}\n",
        "            tempDict['busNo'] = trip4_busNo\n",
        "        trip4_start = \"wow\" #@param {type:\"string\"}\n",
        "        trip4_end = \"wow\" #@param {type:\"string\"}\n",
        "        tempDict['start'] = trip4_start\n",
        "        tempDict['end'] = trip4_end\n",
        "        tripInputs.append(tempDict)\n",
        "\n",
        "    #@markdown TRIP 5 Inputs\n",
        "    tempDict=dict()\n",
        "    trip5_mode = \"NIL\" #@param [\"Bus\", \"MRT\",\"NIL\"]\n",
        "    if trip5_mode != \"NIL\":\n",
        "        tempDict['mode'] = trip5_mode\n",
        "        if trip5_mode == 'Bus':\n",
        "            trip5_busNo = \"196\" #@param {type:\"string\"}\n",
        "            tempDict['busNo'] = trip5_busNo\n",
        "        trip5_start = \"wow\" #@param {type:\"string\"}\n",
        "        trip5_end = \"wow\" #@param {type:\"string\"}\n",
        "        tempDict['start'] = trip5_start\n",
        "        tempDict['end'] = trip5_end\n",
        "        tripInputs.append(tempDict)\n",
        "\n",
        "    #@markdown TRIP 6 Inputs\n",
        "    tempDict=dict()\n",
        "    trip6_mode = \"NIL\" #@param [\"Bus\", \"MRT\",\"NIL\"]\n",
        "    if trip6_mode != \"NIL\":\n",
        "        tempDict['mode'] = trip6_mode\n",
        "        if trip6_mode == 'Bus':\n",
        "            trip6_busNo = \"196\" #@param {type:\"string\"}\n",
        "            tempDict['busNo'] = trip6_busNo\n",
        "        trip6_start = \"wow\" #@param {type:\"string\"}\n",
        "        trip6_end = \"wow\" #@param {type:\"string\"}\n",
        "        tempDict['start'] = trip6_start\n",
        "        tempDict['end'] = trip6_end\n",
        "        tripInputs.append(tempDict)\n",
        "    return tripInputs"
      ],
      "execution_count": 0,
      "outputs": []
    },
    {
      "cell_type": "code",
      "metadata": {
        "id": "ozRn4toSdchr",
        "colab_type": "code",
        "outputId": "49b38ac2-caf0-4039-c769-26d0c454f54e",
        "colab": {
          "base_uri": "https://localhost:8080/",
          "height": 84
        }
      },
      "source": [
        "def main(trips,faretype):\n",
        "    previousTrip = None\n",
        "    n = 1\n",
        "    for trip in trips:\n",
        "        if trip['mode'] == 'Bus':\n",
        "            print(f\"Trip {n} on bus {trip['busNo']} from {trip['start']} to {trip['end']}\")\n",
        "            tripDetails = make_bus_tripDetails(trip['busNo'],trip['start'],trip['end'],faretype)\n",
        "            previousTrip = get_Next_Trip('bus',tripDetails,previousTrip=previousTrip)\n",
        "        else:\n",
        "            print(f\"Trip {n} from {trip['start']} to {trip['end']}\")\n",
        "            tripDetails = make_MRT_tripDetails(trip['start'],trip['end'],faretype)\n",
        "            previousTrip = get_Next_Trip('mrt',tripDetails,previousTrip=previousTrip)\n",
        "        #print(previousTrip)\n",
        "        n+=1\n",
        "    return calc_Fare_From_Dict(previousTrip)\n",
        "print(main(formField_inputs(),'adult'))\n",
        "#print(main(input_inputs(),'adult'))"
      ],
      "execution_count": 0,
      "outputs": [
        {
          "output_type": "stream",
          "text": [
            "Trip 1 on bus 225g from 84411 to 84009\n",
            "Trip 2 from bedok to buona vista\n",
            "Trip 3 on bus 196 from 11369 to 19059\n",
            "193\n"
          ],
          "name": "stdout"
        }
      ]
    },
    {
      "cell_type": "code",
      "metadata": {
        "id": "BhtzWKr7Xvm-",
        "colab_type": "code",
        "colab": {}
      },
      "source": [
        ""
      ],
      "execution_count": 0,
      "outputs": []
    },
    {
      "cell_type": "code",
      "metadata": {
        "id": "_3CZf2PBZIXW",
        "colab_type": "code",
        "colab": {}
      },
      "source": [
        ""
      ],
      "execution_count": 0,
      "outputs": []
    },
    {
      "cell_type": "code",
      "metadata": {
        "id": "Rfnr7oO-pbsa",
        "colab_type": "code",
        "colab": {}
      },
      "source": [
        ""
      ],
      "execution_count": 0,
      "outputs": []
    }
  ]
}